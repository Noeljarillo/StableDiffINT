{
 "cells": [
  {
   "cell_type": "code",
   "execution_count": 12,
   "metadata": {},
   "outputs": [],
   "source": [
    "# test_api.py\n",
    "import requests\n",
    "import pytest\n",
    "\n",
    "# The base URL of the API\n",
    "BASE_URL = \"http://127.0.0.1:5000\"\n",
    "\n",
    "# A sample prompt to test\n",
    "PROMPT = \"draw me a cat\"\n",
    "\n",
    "def test_generate_image():\n",
    "    # Send a POST request to the /generate endpoint with the prompt as JSON data\n",
    "    response = requests.post(BASE_URL + \"/generate\", json={\"prompt\": PROMPT})\n",
    "\n",
    "    # Check that the status code is 200 (OK)\n",
    "    assert response.status_code == 200\n",
    "\n",
    "    # Check that the response is a valid JSON\n",
    "    assert response.headers[\"Content-Type\"] == \"application/json\"\n",
    "\n",
    "    # Check that the response contains an imageUrl key\n",
    "    assert \"imageUrl\" in response.json()\n",
    "\n",
    "    # Check that the imageUrl value is a valid URL\n",
    "    assert response.json()[\"imageUrl\"].startswith(\"http\")\n",
    "\n",
    "test_generate_image()\n"
   ]
  }
 ],
 "metadata": {
  "kernelspec": {
   "display_name": "Python 3",
   "language": "python",
   "name": "python3"
  },
  "language_info": {
   "codemirror_mode": {
    "name": "ipython",
    "version": 3
   },
   "file_extension": ".py",
   "mimetype": "text/x-python",
   "name": "python",
   "nbconvert_exporter": "python",
   "pygments_lexer": "ipython3",
   "version": "3.11.3"
  },
  "orig_nbformat": 4
 },
 "nbformat": 4,
 "nbformat_minor": 2
}
