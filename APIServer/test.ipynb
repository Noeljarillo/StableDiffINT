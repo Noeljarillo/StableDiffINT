{
 "cells": [
  {
   "cell_type": "code",
   "execution_count": 12,
   "metadata": {},
   "outputs": [],
   "source": [
    "# test_api.py\n",
    "import requests\n",
    "import pytest\n",
    "\n",
    "# The base URL of the API\n",
    "BASE_URL = \"http://127.0.0.1:5000\"\n",
    "\n",
    "# A sample prompt to test\n",
    "PROMPT = \"draw me a cat\"\n",
    "\n",
    "def test_generate_image():\n",
    "    # Send a POST request to the /generate endpoint with the prompt as JSON data\n",
    "    response = requests.post(BASE_URL + \"/generate\", json={\"prompt\": PROMPT})\n",
    "\n",
    "    # Check that the status code is 200 (OK)\n",
    "    assert response.status_code == 200\n",
    "\n",
    "    # Check that the response is a valid JSON\n",
    "    assert response.headers[\"Content-Type\"] == \"application/json\"\n",
    "\n",
    "    # Check that the response contains an imageUrl key\n",
    "    assert \"imageUrl\" in response.json()\n",
    "\n",
    "    # Check that the imageUrl value is a valid URL\n",
    "    assert response.json()[\"imageUrl\"].startswith(\"http\")\n",
    "\n",
    "test_generate_image()\n"
   ]
  },
  {
   "cell_type": "code",
   "execution_count": 2,
   "metadata": {},
   "outputs": [
    {
     "name": "stdout",
     "output_type": "stream",
     "text": [
      " * Serving Flask app '__main__'\n",
      " * Debug mode: off\n"
     ]
    },
    {
     "name": "stderr",
     "output_type": "stream",
     "text": [
      "WARNING: This is a development server. Do not use it in a production deployment. Use a production WSGI server instead.\n",
      " * Running on http://localhost:5000\n",
      "Press CTRL+C to quit\n"
     ]
    }
   ],
   "source": [
    "from flask import Flask, request, jsonify\n",
    "from collections import defaultdict\n",
    "import uuid\n",
    "\n",
    "app = Flask(__name__)\n",
    "\n",
    "# In-memory storage for token keys\n",
    "# Replace this with a persistent storage solution (e.g., database) in a production environment\n",
    "user_tokens = defaultdict(list)\n",
    "\n",
    "@app.route('/api/keys/purchase', methods=['POST'])\n",
    "def purchase_keys():\n",
    "    address = request.json.get('address')\n",
    "    if not address:\n",
    "        return jsonify({'error': 'Invalid address'}), 400\n",
    "\n",
    "    # Generate 10 new token keys for the user\n",
    "    for _ in range(10):\n",
    "        user_tokens[address].append(str(uuid.uuid4()))\n",
    "\n",
    "    return jsonify({'balance': len(user_tokens[address])})\n",
    "\n",
    "@app.route('/api/keys/balance', methods=['GET'])\n",
    "def get_balance():\n",
    "    address = request.args.get('address')\n",
    "    if not address:\n",
    "        return jsonify({'error': 'Invalid address'}), 400\n",
    "\n",
    "    return jsonify({'balance': len(user_tokens[address])})\n",
    "\n",
    "@app.route('/api/keys/consume', methods=['POST'])\n",
    "def consume_key():\n",
    "    address = request.json.get('address')\n",
    "    if not address:\n",
    "        return jsonify({'error': 'Invalid address'}), 400\n",
    "\n",
    "    if not user_tokens[address]:\n",
    "        return jsonify({'error': 'No token keys available'}), 400\n",
    "\n",
    "    # Consume a token key\n",
    "    user_tokens[address].pop(0)\n",
    "\n",
    "    return jsonify({'balance': len(user_tokens[address])})\n",
    "\n",
    "if __name__ == '__main__':\n",
    "    app.run(host='localhost', port=5000)\n"
   ]
  },
  {
   "cell_type": "code",
   "execution_count": 13,
   "metadata": {},
   "outputs": [
    {
     "name": "stdout",
     "output_type": "stream",
     "text": [
      "Testing purchase prompts:\n",
      "Purchase prompts successful.\n",
      "{'balance': 20}\n",
      "\n",
      "Testing fetch token key balance:\n",
      "Fetch token key balance successful.\n",
      "{'balance': 20}\n",
      "\n",
      "Testing consume token key:\n",
      "Consume token key successful.\n",
      "{'balance': 19}\n"
     ]
    }
   ],
   "source": [
    "import requests\n",
    "\n",
    "api_base_url = 'http://localhost:5000'\n",
    "\n",
    "def test_purchase_prompts(address):\n",
    "    headers = {'Content-Type': 'application/json'}\n",
    "    response = requests.post(f'{api_base_url}/api/keys/purchase', json={'address': address}, headers=headers)\n",
    "    if response.status_code == 200:\n",
    "        print(\"Purchase prompts successful.\")\n",
    "        return response.json()\n",
    "    else:\n",
    "        print(\"Purchase prompts failed.\")\n",
    "        return None\n",
    "\n",
    "def test_fetch_token_key_balance(address):\n",
    "    response = requests.get(f'{api_base_url}/api//keys/balance?address={address}')\n",
    "    if response.status_code == 200:\n",
    "        print(\"Fetch token key balance successful.\")\n",
    "        return response.json()\n",
    "    else:\n",
    "        print(\"Fetch token key balance failed.\")\n",
    "        return None\n",
    "\n",
    "def test_consume_token_key(address):\n",
    "    headers = {'Content-Type': 'application/json'}\n",
    "    response = requests.post(f'{api_base_url}/api/keys/consume', json={'address': address}, headers=headers)\n",
    "    if response.status_code == 200:\n",
    "        print(\"Consume token key successful.\")\n",
    "        return response.json()\n",
    "    else:\n",
    "        print(\"Consume token key failed.\")\n",
    "        return None\n",
    "\n",
    "if __name__ == \"__main__\":\n",
    "    test_address = '0x742d35Cc6634C0532925a3b844Bc454e4438f44e'\n",
    "\n",
    "    print(\"Testing purchase prompts:\")\n",
    "    purchase_result = test_purchase_prompts(test_address)\n",
    "    print(purchase_result)\n",
    "\n",
    "    print(\"\\nTesting fetch token key balance:\")\n",
    "    balance_result = test_fetch_token_key_balance(test_address)\n",
    "    print(balance_result)\n",
    "\n",
    "    print(\"\\nTesting consume token key:\")\n",
    "    consume_result = test_consume_token_key(test_address)\n",
    "    print(consume_result)\n",
    "\n"
   ]
  }
 ],
 "metadata": {
  "kernelspec": {
   "display_name": "Python 3",
   "language": "python",
   "name": "python3"
  },
  "language_info": {
   "codemirror_mode": {
    "name": "ipython",
    "version": 3
   },
   "file_extension": ".py",
   "mimetype": "text/x-python",
   "name": "python",
   "nbconvert_exporter": "python",
   "pygments_lexer": "ipython3",
   "version": "3.11.3"
  },
  "orig_nbformat": 4
 },
 "nbformat": 4,
 "nbformat_minor": 2
}
